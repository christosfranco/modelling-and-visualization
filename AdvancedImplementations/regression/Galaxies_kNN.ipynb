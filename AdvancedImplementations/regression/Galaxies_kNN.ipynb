{
 "cells": [
  {
   "cell_type": "code",
   "execution_count": 1,
   "metadata": {},
   "outputs": [],
   "source": [
    "import csv\n",
    "import numpy"
   ]
  },
  {
   "cell_type": "code",
   "execution_count": 2,
   "metadata": {},
   "outputs": [
    {
     "name": "stdout",
     "output_type": "stream",
     "text": [
      "Number of training instances: 500\n",
      "Number of test instances: 500\n",
      "Number of attributes: 10\n"
     ]
    }
   ],
   "source": [
    "train_data = numpy.loadtxt(\"galaxies_train.csv\", delimiter=\",\", skiprows=1)\n",
    "test_data = numpy.loadtxt(\"galaxies_test.csv\", delimiter=\",\", skiprows=1)\n",
    "\n",
    "X_train = train_data[:,1:]\n",
    "t_train = train_data[:,0]\n",
    "X_test = test_data[:,1:]\n",
    "t_test = test_data[:,0]\n",
    "print(\"Number of training instances: %i\" % X_train.shape[0])\n",
    "print(\"Number of test instances: %i\" % X_test.shape[0])\n",
    "print(\"Number of attributes: %i\" % X_train.shape[1])"
   ]
  },
  {
   "cell_type": "code",
   "execution_count": 3,
   "metadata": {},
   "outputs": [],
   "source": [
    "# NOTE: You are supposed to use this strucuture, i.e., \n",
    "# the pre-defined functions and variables. If you \n",
    "# have difficulties to keep this structure, you ARE \n",
    "# ALLOWED to adapt/change the code structure slightly!\n",
    "# You might also want to add additional functions or\n",
    "# variables.\n",
    "\n",
    "class NearestNeighborRegressor:\n",
    "    \n",
    "    def __init__(self, n_neighbors=1, dist_measure=\"euclidean\", dist_matrix=None):\n",
    "        \"\"\"\n",
    "        Initializes the model.\n",
    "        \n",
    "        Parameters\n",
    "        ----------\n",
    "        n_neighbors : The number of nearest neigbhors (default 1)\n",
    "        dist_measure : The distance measure used (default \"euclidean\")\n",
    "        dist_matrix : The distance matrix if needed (default \"None\")\n",
    "        \"\"\"        \n",
    "        self.n_neighbors = n_neighbors\n",
    "        self.dist_measure = dist_measure\n",
    "        self.dist_matrix = dist_matrix\n",
    "    \n",
    "    def fit(self, X, t):\n",
    "        \"\"\"\n",
    "        Fits the nearest neighbor regression model.\n",
    "\n",
    "        Parameters\n",
    "        ----------\n",
    "        X : Array of shape [n_samples, n_features]\n",
    "        t : Array of length n_samples\n",
    "        \"\"\" \n",
    "        \n",
    "        self.X_train = X\n",
    "        self.t_train = t\n",
    "    \n",
    "    def predict(self, X):\n",
    "        \"\"\"\n",
    "        Computes predictions for a new set of points.\n",
    "\n",
    "        Parameters\n",
    "        ----------\n",
    "        X : Array of shape [n_samples, n_features]\n",
    "\n",
    "        Returns\n",
    "        -------\n",
    "        predictions : Array of length n_samples\n",
    "        \"\"\"         \n",
    "        \n",
    "        predictions = []\n",
    "        \n",
    "        for i in range(len(X)):\n",
    "            \n",
    "            dists = []\n",
    "            \n",
    "            for j in range(len(self.X_train)):\n",
    "                \n",
    "                if self.dist_measure == \"euclidean\":\n",
    "                    d = self._euclideanDistance(X[i], self.X_train[j])\n",
    "                elif self.dist_measure == \"matrix\":\n",
    "                    d = self._matrixDistance(X[i], self.X_train[j])\n",
    "                else:\n",
    "                    raise Exception(\"Unknown distance measure!\")\n",
    "\n",
    "                dists.append(d)\n",
    "            \n",
    "            # sort distances and return corresponding indices\n",
    "            sorted_indices = numpy.argsort(dists)\n",
    "            best_k_indices = sorted_indices[:self.n_neighbors]\n",
    "            \n",
    "            # compute prediction via the mean of the label\n",
    "            pred = self.t_train[best_k_indices].mean()\n",
    "            predictions.append(pred)\n",
    "            \n",
    "        predictions = numpy.array(predictions)\n",
    "        \n",
    "        return predictions\n",
    "    \n",
    "    def _euclideanDistance(self, p, q):\n",
    "        \"\"\"\n",
    "        Computes the Euclidean distance between \n",
    "        two points.\n",
    "        \"\"\"\n",
    "        \n",
    "        d = ((q - p)**2).sum()\n",
    "        d = numpy.sqrt(d)\n",
    "        \n",
    "        return d\n",
    "\n",
    "    def _matrixDistance(self, p, q):\n",
    "        \"\"\"\n",
    "        Computes the distance between \n",
    "        two points via the pre-defined matrix.\n",
    "        \"\"\"\n",
    "        \n",
    "        if self.dist_matrix is None:\n",
    "            raise Exception(\"Distance matrix must not be None!\")\n",
    "        \n",
    "        q = numpy.array(q).reshape((len(q),1))\n",
    "        p = numpy.array(p).reshape((len(p),1))\n",
    "        diff = q-p\n",
    "        \n",
    "        d = numpy.dot(diff.T, self.dist_matrix)\n",
    "        d = numpy.dot(d, diff)\n",
    "\n",
    "        return d[0,0]\n",
    "    \n",
    "def rmse(t, tp):\n",
    "    \"\"\" Computes the RMSE for two\n",
    "    input arrays 't' and 'tp'.\n",
    "    \"\"\"\n",
    "\n",
    "    # sanity check: both shapes have to be the same!\n",
    "    assert tp.shape == t.shape\n",
    "\n",
    "    return numpy.sqrt(numpy.mean((t - tp)**2))\n"
   ]
  },
  {
   "cell_type": "code",
   "execution_count": 4,
   "metadata": {},
   "outputs": [
    {
     "name": "stdout",
     "output_type": "stream",
     "text": [
      "RMSE of NN model on test set: 0.824306\n"
     ]
    }
   ],
   "source": [
    "# fit model on training instances\n",
    "model = NearestNeighborRegressor(n_neighbors=3, dist_measure=\"euclidean\")\n",
    "model.fit(X_train, t_train)\n",
    "\n",
    "# get predictions on test set\n",
    "preds = model.predict(X_test)\n",
    "error = rmse(t_test, preds)\n",
    "\n",
    "print(\"RMSE of NN model on test set: %f\" % error)"
   ]
  },
  {
   "cell_type": "code",
   "execution_count": 5,
   "metadata": {},
   "outputs": [
    {
     "data": {
      "text/plain": [
       "<Figure size 640x480 with 1 Axes>"
      ]
     },
     "metadata": {},
     "output_type": "display_data"
    }
   ],
   "source": [
    "import matplotlib.pyplot as plt\n",
    "\n",
    "plt.scatter(t_test, preds, label=\"n_neighbors=%i\" % 3)\n",
    "plt.xlabel(\"True Redshift\")\n",
    "plt.ylabel(\"Predicted Redshift\")\n",
    "plt.title(\"KNN for Distant Galaxies\")\n",
    "plt.xlim([0,7])\n",
    "plt.ylim([0,7])\n",
    "plt.legend()\n",
    "plt.show()"
   ]
  },
  {
   "cell_type": "code",
   "execution_count": 6,
   "metadata": {},
   "outputs": [],
   "source": [
    "M = numpy.zeros((10,10), dtype=numpy.float64)\n",
    "for i in range(9):\n",
    "    M[i,i] = 0.00001\n",
    "for i in range(8,10):\n",
    "    M[i,i] = 1.0"
   ]
  },
  {
   "cell_type": "code",
   "execution_count": 7,
   "metadata": {},
   "outputs": [
    {
     "name": "stdout",
     "output_type": "stream",
     "text": [
      "[[1.e-05 0.e+00 0.e+00 0.e+00 0.e+00 0.e+00 0.e+00 0.e+00 0.e+00 0.e+00]\n",
      " [0.e+00 1.e-05 0.e+00 0.e+00 0.e+00 0.e+00 0.e+00 0.e+00 0.e+00 0.e+00]\n",
      " [0.e+00 0.e+00 1.e-05 0.e+00 0.e+00 0.e+00 0.e+00 0.e+00 0.e+00 0.e+00]\n",
      " [0.e+00 0.e+00 0.e+00 1.e-05 0.e+00 0.e+00 0.e+00 0.e+00 0.e+00 0.e+00]\n",
      " [0.e+00 0.e+00 0.e+00 0.e+00 1.e-05 0.e+00 0.e+00 0.e+00 0.e+00 0.e+00]\n",
      " [0.e+00 0.e+00 0.e+00 0.e+00 0.e+00 1.e-05 0.e+00 0.e+00 0.e+00 0.e+00]\n",
      " [0.e+00 0.e+00 0.e+00 0.e+00 0.e+00 0.e+00 1.e-05 0.e+00 0.e+00 0.e+00]\n",
      " [0.e+00 0.e+00 0.e+00 0.e+00 0.e+00 0.e+00 0.e+00 1.e-05 0.e+00 0.e+00]\n",
      " [0.e+00 0.e+00 0.e+00 0.e+00 0.e+00 0.e+00 0.e+00 0.e+00 1.e+00 0.e+00]\n",
      " [0.e+00 0.e+00 0.e+00 0.e+00 0.e+00 0.e+00 0.e+00 0.e+00 0.e+00 1.e+00]]\n"
     ]
    }
   ],
   "source": [
    "print(M)"
   ]
  },
  {
   "cell_type": "code",
   "execution_count": 8,
   "metadata": {},
   "outputs": [
    {
     "name": "stdout",
     "output_type": "stream",
     "text": [
      "(500,)\n",
      "RMSE of NN model on test set: 1.099797\n"
     ]
    }
   ],
   "source": [
    "model = NearestNeighborRegressor(n_neighbors=3, dist_measure=\"matrix\", dist_matrix=M)\n",
    "model.fit(X_train, t_train)\n",
    "\n",
    "# get predictions on test set\n",
    "preds = model.predict(X_test)\n",
    "print(preds.shape)\n",
    "error = rmse(t_test, preds)\n",
    "print(\"RMSE of NN model on test set: %f\" % error)"
   ]
  },
  {
   "cell_type": "code",
   "execution_count": 9,
   "metadata": {},
   "outputs": [
    {
     "data": {
      "image/png": "[encoded data removed]",
      "text/plain": [
       "<Figure size 432x288 with 1 Axes>"
      ]
     },
     "metadata": {
      "needs_background": "light"
     },
     "output_type": "display_data"
    }
   ],
   "source": [
    "plt.scatter(t_test, preds, label=\"dist matrix with n_neighbors=%i\" % 3)\n",
    "plt.xlabel(\"True Redshift\")\n",
    "plt.ylabel(\"Predicted Redshift\")\n",
    "plt.title(\"KNN for Distant Galaxies\")\n",
    "plt.xlim([0,7])\n",
    "plt.ylim([0,7])\n",
    "plt.legend()\n",
    "plt.show()"
   ]
  },
  {
   "cell_type": "code",
   "execution_count": null,
   "metadata": {},
   "outputs": [],
   "source": []
  },
  {
   "cell_type": "code",
   "execution_count": null,
   "metadata": {},
   "outputs": [],
   "source": []
  }
 ],
 "metadata": {
  "kernelspec": {
   "display_name": "Python 3",
   "language": "python",
   "name": "python3"
  },
  "language_info": {
   "codemirror_mode": {
    "name": "ipython",
    "version": 3
   },
   "file_extension": ".py",
   "mimetype": "text/x-python",
   "name": "python",
   "nbconvert_exporter": "python",
   "pygments_lexer": "ipython3",
   "version": "3.6.9"
  }
 },
 "nbformat": 4,
 "nbformat_minor": 2
}
